{
 "cells": [
  {
   "cell_type": "code",
   "execution_count": 3,
   "id": "c8f0b899-9004-44ef-9428-eb0e4dea77ab",
   "metadata": {},
   "outputs": [],
   "source": [
    "from geopy.geocoders import Nominatim\n"
   ]
  },
  {
   "cell_type": "code",
   "execution_count": 7,
   "id": "f942bdaf-d387-4af7-bbd3-7d7aedff0c7e",
   "metadata": {},
   "outputs": [
    {
     "name": "stdout",
     "output_type": "stream",
     "text": [
      "{'place_id': 167423167, 'licence': 'Data © OpenStreetMap contributors, ODbL 1.0. https://osm.org/copyright', 'osm_type': 'way', 'osm_id': 264768896, 'boundingbox': ['40.7407566', '40.7413004', '-73.9898715', '-73.9895014'], 'lat': '40.741059199999995', 'lon': '-73.98964162240998', 'display_name': 'Flatiron Building, 175, 5th Avenue, Manhattan Community Board 5, New York County, New York, 10010, United States', 'class': 'tourism', 'type': 'attraction', 'importance': 0.7405988542685404, 'icon': 'https://nominatim.openstreetmap.org/ui/mapicons//poi_point_of_interest.p.20.png'}\n"
     ]
    }
   ],
   "source": [
    "\n",
    "geolocator = Nominatim(user_agent=\"jdryer1@asu.edu\")\n",
    "location = geolocator.geocode(\"175 5th Avenue NYC\")\n",
    "\n",
    "print(location.raw)"
   ]
  },
  {
   "cell_type": "code",
   "execution_count": 13,
   "id": "dd6857ad-6f47-4211-80e1-3464319563d5",
   "metadata": {},
   "outputs": [
    {
     "name": "stdout",
     "output_type": "stream",
     "text": [
      "place_id | 167423167\n",
      "licence | Data © OpenStreetMap contributors, ODbL 1.0. https://osm.org/copyright\n",
      "osm_type | way\n",
      "osm_id | 264768896\n",
      "boundingbox | ['40.7407566', '40.7413004', '-73.9898715', '-73.9895014']\n",
      "lat | 40.741059199999995\n",
      "lon | -73.98964162240998\n",
      "display_name | Flatiron Building, 175, 5th Avenue, Manhattan Community Board 5, New York County, New York, 10010, United States\n",
      "class | tourism\n",
      "type | attraction\n",
      "importance | 0.7405988542685404\n",
      "icon | https://nominatim.openstreetmap.org/ui/mapicons//poi_point_of_interest.p.20.png\n"
     ]
    }
   ],
   "source": [
    "loc_info = location.raw\n",
    "for key in loc_info.keys():\n",
    "    print(key, \"|\", loc_info[key])"
   ]
  },
  {
   "cell_type": "code",
   "execution_count": null,
   "id": "09266d07-bdc5-4d5d-8186-11df544f9a79",
   "metadata": {},
   "outputs": [],
   "source": []
  }
 ],
 "metadata": {
  "kernelspec": {
   "display_name": "Python 3 (ipykernel)",
   "language": "python",
   "name": "python3"
  },
  "language_info": {
   "codemirror_mode": {
    "name": "ipython",
    "version": 3
   },
   "file_extension": ".py",
   "mimetype": "text/x-python",
   "name": "python",
   "nbconvert_exporter": "python",
   "pygments_lexer": "ipython3",
   "version": "3.9.7"
  }
 },
 "nbformat": 4,
 "nbformat_minor": 5
}
