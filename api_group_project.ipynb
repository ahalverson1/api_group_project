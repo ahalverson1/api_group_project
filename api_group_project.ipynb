{
 "cells": [
  {
   "cell_type": "code",
   "execution_count": 41,
   "id": "a8895a92-957e-4660-9f4d-fd3129870d44",
   "metadata": {},
   "outputs": [],
   "source": [
    "import requests\n",
    "from bs4 import BeautifulSoup\n",
    "import csv\n",
    "\n",
    "path = 'https://zoo-animal-api.herokuapp.com/animals/rand/10'\n",
    "data = requests.get(path).json()"
   ]
  },
  {
   "cell_type": "code",
   "execution_count": null,
   "id": "0563b0e2-09b0-4966-83cd-3a252ee6d8dc",
   "metadata": {},
   "outputs": [],
   "source": [
    "@dataclass    \n",
    "class Bird:\n",
    "    name: str\n",
    "    latin_name: str\n",
    "    active_time: str\n",
    "    length_min: float = field(metadata={\"units\":\"feet\"})\n",
    "    length_max: float = field(metadata={\"units\":\"feet\"})\n",
    "    weight_min: float = field(metadata={\"units\":\"lbs\"})\n",
    "    weight_max: float = field(metadata={\"units\":\"lbs\"})\n",
    "    lifespan: float = field(metadata={\"units\":\"years\"})\n",
    "    habitat: str\n",
    "    diet: str\n",
    "    geo_range: str\n",
    "    image_link: str\n",
    "    id_: int\n",
    "\n",
    "@dataclass    \n",
    "class Reptile:\n",
    "    name: str\n",
    "    latin_name: str\n",
    "    active_time: str\n",
    "    length_min: float = field(metadata={\"units\":\"feet\"})\n",
    "    length_max: float = field(metadata={\"units\":\"feet\"})\n",
    "    weight_min: float = field(metadata={\"units\":\"lbs\"})\n",
    "    weight_max: float = field(metadata={\"units\":\"lbs\"})\n",
    "    lifespan: float = field(metadata={\"units\":\"years\"})\n",
    "    habitat: str\n",
    "    diet: str\n",
    "    geo_range: str\n",
    "    image_link: str\n",
    "    id_: int\n",
    "    \n",
    "@dataclass    \n",
    "class Mammal:\n",
    "    name: str\n",
    "    latin_name: str\n",
    "    active_time: str\n",
    "    length_min: float = field(metadata={\"units\":\"feet\"})\n",
    "    length_max: float = field(metadata={\"units\":\"feet\"})\n",
    "    weight_min: float = field(metadata={\"units\":\"lbs\"})\n",
    "    weight_max: float = field(metadata={\"units\":\"lbs\"})\n",
    "    lifespan: float = field(metadata={\"units\":\"years\"})\n",
    "    habitat: str\n",
    "    diet: str\n",
    "    geo_range: str\n",
    "    image_link: str\n",
    "    id_: int\n",
    "    \n",
    "@dataclass    \n",
    "class Marsupial:\n",
    "    name: str\n",
    "    latin_name: str\n",
    "    active_time: str\n",
    "    length_min: float = field(metadata={\"units\":\"feet\"})\n",
    "    length_max: float = field(metadata={\"units\":\"feet\"})\n",
    "    weight_min: float = field(metadata={\"units\":\"lbs\"})\n",
    "    weight_max: float = field(metadata={\"units\":\"lbs\"})\n",
    "    lifespan: float = field(metadata={\"units\":\"years\"})\n",
    "    habitat: str\n",
    "    diet: str\n",
    "    geo_range: str\n",
    "    image_link: str\n",
    "    id_: int\n",
    "    \n",
    "@dataclass    \n",
    "class Amphibian:\n",
    "    name: str\n",
    "    latin_name: str\n",
    "    active_time: str\n",
    "    length_min: float = field(metadata={\"units\":\"feet\"})\n",
    "    length_max: float = field(metadata={\"units\":\"feet\"})\n",
    "    weight_min: float = field(metadata={\"units\":\"lbs\"})\n",
    "    weight_max: float = field(metadata={\"units\":\"lbs\"})\n",
    "    lifespan: float = field(metadata={\"units\":\"years\"})\n",
    "    habitat: str\n",
    "    diet: str\n",
    "    geo_range: str\n",
    "    image_link: str\n",
    "    id_: int"
   ]
  },
  {
   "cell_type": "code",
   "execution_count": 49,
   "id": "e338f977-f640-4554-9acc-eec433f50dee",
   "metadata": {},
   "outputs": [
    {
     "name": "stdout",
     "output_type": "stream",
     "text": [
      "name:      ---    Masked Lapwing\n",
      "latin_name:      ---    Vanellus miles\n",
      "animal_type:      ---    Bird\n",
      "active_time:      ---    Diurnal\n",
      "length_min:      ---    1\n",
      "length_max:      ---    1.2\n",
      "weight_min:      ---    0.7\n",
      "weight_max:      ---    0.8\n",
      "lifespan:      ---    16\n",
      "habitat:      ---    Wetlands and grasslands\n",
      "diet:      ---    Worms and insects\n",
      "geo_range:      ---    Australia, New Zealand and Papua New Guinea\n",
      "image_link:      ---    https://upload.wikimedia.org/wikipedia/commons/e/e9/Prague_07-2016_Zoo_img02_Vanellus_miles.jpg\n",
      "id:      ---    115\n"
     ]
    }
   ],
   "source": [
    "for item in data[0].keys():\n",
    "    print(f'{item}:      ---    {data[0][item]}')"
   ]
  },
  {
   "cell_type": "code",
   "execution_count": 45,
   "id": "61e5ea70-5c88-4a44-adfd-f8311d683eae",
   "metadata": {},
   "outputs": [
    {
     "name": "stdout",
     "output_type": "stream",
     "text": [
      "name: int\n",
      "latin_name: int\n",
      "animal_type: int\n",
      "active_time: int\n",
      "length_min: int\n",
      "length_max: int\n",
      "weight_min: int\n",
      "weight_max: int\n",
      "lifespan: int\n",
      "habitat: int\n",
      "diet: int\n",
      "geo_range: int\n",
      "image_link: int\n",
      "id: int\n"
     ]
    }
   ],
   "source": [
    "for st in \"\"\"name\n",
    "latin_name\n",
    "animal_type\n",
    "active_time\n",
    "length_min\n",
    "length_max\n",
    "weight_min\n",
    "weight_max\n",
    "lifespan\n",
    "habitat\n",
    "diet\n",
    "geo_range\n",
    "image_link\n",
    "id\"\"\".split(\"\\n\"):\n",
    "    print(f'{st}: int')"
   ]
  },
  {
   "cell_type": "code",
   "execution_count": null,
   "id": "c53e4842-3b4f-46ef-977c-73e333ec8e76",
   "metadata": {},
   "outputs": [],
   "source": []
  }
 ],
 "metadata": {
  "kernelspec": {
   "display_name": "Python 3 (ipykernel)",
   "language": "python",
   "name": "python3"
  },
  "language_info": {
   "codemirror_mode": {
    "name": "ipython",
    "version": 3
   },
   "file_extension": ".py",
   "mimetype": "text/x-python",
   "name": "python",
   "nbconvert_exporter": "python",
   "pygments_lexer": "ipython3",
   "version": "3.9.7"
  }
 },
 "nbformat": 4,
 "nbformat_minor": 5
}
