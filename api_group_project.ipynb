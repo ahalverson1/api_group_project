{
 "cells": [
  {
   "cell_type": "code",
   "execution_count": 2,
   "id": "7b85b762-4b17-4d16-86ec-0bd5f4ed1998",
   "metadata": {},
   "outputs": [
    {
     "ename": "ModuleNotFoundError",
     "evalue": "No module named 'geopy'",
     "output_type": "error",
     "traceback": [
      "\u001b[1;31m---------------------------------------------------------------------------\u001b[0m",
      "\u001b[1;31mModuleNotFoundError\u001b[0m                       Traceback (most recent call last)",
      "\u001b[1;32m~\\AppData\\Local\\Temp/ipykernel_17732/1671315800.py\u001b[0m in \u001b[0;36m<module>\u001b[1;34m\u001b[0m\n\u001b[1;32m----> 1\u001b[1;33m \u001b[1;32mfrom\u001b[0m \u001b[0mgeopy\u001b[0m\u001b[1;33m.\u001b[0m\u001b[0mgeocoders\u001b[0m \u001b[1;32mimport\u001b[0m \u001b[0mNominatim\u001b[0m\u001b[1;33m\u001b[0m\u001b[1;33m\u001b[0m\u001b[0m\n\u001b[0m\u001b[0;32m      2\u001b[0m \u001b[1;33m\u001b[0m\u001b[0m\n\u001b[0;32m      3\u001b[0m \u001b[1;31m# def get_geo_data(country_list):\u001b[0m\u001b[1;33m\u001b[0m\u001b[1;33m\u001b[0m\u001b[0m\n\u001b[0;32m      4\u001b[0m \u001b[1;31m#     print(\"Gathering Response Geospatial Data...\")\u001b[0m\u001b[1;33m\u001b[0m\u001b[1;33m\u001b[0m\u001b[0m\n\u001b[0;32m      5\u001b[0m \u001b[1;31m#     locs = []\u001b[0m\u001b[1;33m\u001b[0m\u001b[1;33m\u001b[0m\u001b[0m\n",
      "\u001b[1;31mModuleNotFoundError\u001b[0m: No module named 'geopy'"
     ]
    }
   ],
   "source": [
    "from geopy.geocoders import Nominatim\n",
    "\n",
    "# def get_geo_data(country_list):\n",
    "#     print(\"Gathering Response Geospatial Data...\")\n",
    "#     locs = []\n",
    "#     length = len(country_list.values.tolist())\n",
    "#     for i,x in enumerate(country_list.values.tolist()):\n",
    "\n",
    "#         locator = Nominatim(user_agent='jdryer1@asu.edu')\n",
    "#         country,resp_count = x[0],x[1]\n",
    "#         try:\n",
    "#             location = locator.geocode(country)\n",
    "#             lat = location.latitude\n",
    "#             long = location.longitude\n",
    "#             print(\"Completed %d of %d locations\" %(i+1,length))\n",
    "#         except:\n",
    "#             print(\"Failed\")\n",
    "#             lat,long,alt = \"\",\"\",\"\"\n",
    "#         locs.append([country,resp_count,lat,long])\n",
    "#         time.sleep(2)\n",
    "#     locs = pd.DataFrame(locs,columns = [\"Respondent Location\",\"Responses\",\"Latitude\",\"Longitude\"])\n",
    "#     return(locs)   "
   ]
  },
  {
   "cell_type": "code",
   "execution_count": null,
   "id": "c8f0b899-9004-44ef-9428-eb0e4dea77ab",
   "metadata": {},
   "outputs": [],
   "source": []
  }
 ],
 "metadata": {
  "kernelspec": {
   "display_name": "Python 3 (ipykernel)",
   "language": "python",
   "name": "python3"
  },
  "language_info": {
   "codemirror_mode": {
    "name": "ipython",
    "version": 3
   },
   "file_extension": ".py",
   "mimetype": "text/x-python",
   "name": "python",
   "nbconvert_exporter": "python",
   "pygments_lexer": "ipython3",
   "version": "3.9.7"
  }
 },
 "nbformat": 4,
 "nbformat_minor": 5
}
